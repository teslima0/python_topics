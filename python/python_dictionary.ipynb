{
 "cells": [
  {
   "cell_type": "code",
   "execution_count": 101,
   "metadata": {},
   "outputs": [
    {
     "name": "stdout",
     "output_type": "stream",
     "text": [
      "['Math', 'Physics']\n",
      "['English', 'Agric', 'Chemistry']\n",
      "['Physics', 'Biology']\n",
      "['Math', 'Chemistry', 'Biology']\n",
      "{'John Doe': ['Math', 'Physics'], 'Alice Smith': ['English', 'Agric', 'Chemistry', '-'], 'Eva Williams': ['Physics', 'Biology', '-'], 'Bob Johnson': ['Math', 'Chemistry', 'Biology', 'N/A']}\n",
      "{'John Doe': 'Physics', 'Alice Smith': 'Chemistry', 'Eva Williams': 'Biology', 'Bob Johnson': 'Biology'}\n"
     ]
    },
    {
     "ename": "",
     "evalue": "",
     "output_type": "error",
     "traceback": [
      "\u001b[1;31mThe Kernel crashed while executing code in the the current cell or a previous cell. Please review the code in the cell(s) to identify a possible cause of the failure. Click <a href='https://aka.ms/vscodeJupyterKernelCrash'>here</a> for more info. View Jupyter <a href='command:jupyter.viewOutput'>log</a> for further details."
     ]
    }
   ],
   "source": [
    "# Dictionary where a key has multiple values\n",
    "student_courses = {\n",
    "    'John Doe': ['Math', 'Physics'],\n",
    "    'Alice Smith': ['English', 'History', 'Chemistry','-'],\n",
    "    'Eva Williams': ['Physics', 'Biology','-'],\n",
    "    'Bob Johnson': ['Math', 'Chemistry', 'Biology','N/A']\n",
    "    \n",
    "}\n",
    "\n",
    "student_courses['Alice Smith'][1]=\"Agric\"\n",
    "value=[]\n",
    "for keys, values in student_courses.items():\n",
    "    value=[course for course in values if course not in {'-', '', 'N/A'}]\n",
    "    print(value)\n",
    "    \n",
    "    #for keys, value in zip(keys,value):\n",
    "        #{keys}:{value}\n",
    "\n",
    "#print(L)   \n",
    "     \n",
    "update_lisit= {key:value for key, value in student_courses.items()}\n",
    "\n",
    "print(update_lisit)\n",
    "L={}\n",
    "for keys, values in student_courses.items():\n",
    "    for value in values:\n",
    "        if value not in {'-','','N/A'}:\n",
    "            #for keys,value in zip(keys, value):\n",
    "   \n",
    "                L[keys]=value\n",
    "\n",
    "print(L)"
   ]
  },
  {
   "cell_type": "code",
   "execution_count": 69,
   "metadata": {},
   "outputs": [
    {
     "name": "stdout",
     "output_type": "stream",
     "text": [
      "John Doe is enrolled in: ['Math', 'Physics']\n",
      "Alice Smith is enrolled in: ['English', 'History', 'Chemistry']\n",
      "Eva Williams is enrolled in: ['Physics', 'Biology']\n",
      "Bob Johnson is enrolled in: ['Math', 'Chemistry', 'Biology']\n"
     ]
    }
   ],
   "source": [
    "student_courses = {\n",
    "    'John Doe': ['Math', 'Physics'],\n",
    "    'Alice Smith': ['English', 'History', 'Chemistry', '-'],\n",
    "    'Eva Williams': ['Physics', 'Biology', '-'],\n",
    "    'Bob Johnson': ['Math', 'Chemistry', 'Biology', 'N/A']\n",
    "}\n",
    "\n",
    "# Function to remove undesired values from a list\n",
    "def remove_undesired_values(course_list):\n",
    "    return [course for course in course_list if course not in {'-', '', 'N/A'} ]\n",
    "\n",
    "# Create a new dictionary with updated values\n",
    "updated_student_courses = {key: remove_undesired_values(values) for key, values in student_courses.items()}\n",
    "\n",
    "# Print the updated dictionary\n",
    "for key, values in updated_student_courses.items():\n",
    "    print(f'{key} is enrolled in: {values}')\n"
   ]
  },
  {
   "cell_type": "code",
   "execution_count": 44,
   "metadata": {},
   "outputs": [
    {
     "name": "stdout",
     "output_type": "stream",
     "text": [
      "['English', 'History', 'Chemistry']\n"
     ]
    }
   ],
   "source": [
    "vals=['English', 'History', 'Chemistry','-']\n",
    "\n",
    "for i in vals:\n",
    "    if  i =='-':\n",
    "        vals.remove('-')\n",
    "        print(vals)"
   ]
  }
 ],
 "metadata": {
  "kernelspec": {
   "display_name": "Python 3",
   "language": "python",
   "name": "python3"
  },
  "language_info": {
   "codemirror_mode": {
    "name": "ipython",
    "version": 3
   },
   "file_extension": ".py",
   "mimetype": "text/x-python",
   "name": "python",
   "nbconvert_exporter": "python",
   "pygments_lexer": "ipython3",
   "version": "3.10.4"
  }
 },
 "nbformat": 4,
 "nbformat_minor": 2
}
