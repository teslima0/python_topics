{
 "cells": [
  {
   "cell_type": "markdown",
   "metadata": {},
   "source": [
    "Ask for two numbers. If the first one is larger than the second, display  the second number first and then the first number, otherwise show \n",
    "the first number first and then the second. "
   ]
  },
  {
   "cell_type": "code",
   "execution_count": 1,
   "metadata": {},
   "outputs": [],
   "source": [
    "num1= int(input(\"please input the first number\"))\n",
    "num2= int(input(\"please input the secoun number\"))"
   ]
  },
  {
   "cell_type": "code",
   "execution_count": 2,
   "metadata": {},
   "outputs": [
    {
     "name": "stdout",
     "output_type": "stream",
     "text": [
      "12 13\n"
     ]
    }
   ],
   "source": [
    "if num1 > num2:\n",
    "    print(num2, num1)\n",
    "else:\n",
    "    print(num1, num2)"
   ]
  },
  {
   "cell_type": "markdown",
   "metadata": {},
   "source": [
    "Ask the user to enter a number that is under 20. If they enter a number that is 20 or more, display the message “Too high”, otherwise display “Thank you”. "
   ]
  },
  {
   "cell_type": "code",
   "execution_count": 1,
   "metadata": {},
   "outputs": [],
   "source": [
    "num_below_20=int(input(\"Please enter any number below 20\"))"
   ]
  },
  {
   "cell_type": "code",
   "execution_count": 2,
   "metadata": {},
   "outputs": [
    {
     "name": "stdout",
     "output_type": "stream",
     "text": [
      "Number entered to highr\n"
     ]
    }
   ],
   "source": [
    "if num_below_20 >= 20:\n",
    "    print(\"Number entered too highr\")\n",
    "else:\n",
    "    print(\"Thank you\")"
   ]
  },
  {
   "cell_type": "markdown",
   "metadata": {},
   "source": [
    "Ask the user to enter a number between 10 and 20 (inclusive). If they enter a number within this range, display the message “Thank you”, otherwise display the \n",
    "message “Incorrect answer”. "
   ]
  },
  {
   "cell_type": "code",
   "execution_count": 39,
   "metadata": {},
   "outputs": [
    {
     "name": "stdout",
     "output_type": "stream",
     "text": [
      "Thank you\n",
      "20\n"
     ]
    }
   ],
   "source": [
    "#try:\n",
    "num_below_20=float(input(\"Please enter any number between 10 and 20\"))\n",
    "numint= int(num_below_20)\n",
    "#if numint:\n",
    "       # numint\n",
    "#else:\n",
    "        #foatint=float(numint)\n",
    "if numint >= 10 and  numint <= 20: #or 10 <= foatint>= 20 :\n",
    "    \n",
    "    print(\"Thank you\")\n",
    "           \n",
    "else:\n",
    "        print(\"Incorrect entries\")\n",
    "#except:\n",
    "    #print(\"the number you enter cannot be converted to int\")"
   ]
  },
  {
   "cell_type": "markdown",
   "metadata": {},
   "source": [
    "Ask the user to enter their favourite colour. If they enter “red”, “RED” or \n",
    "“Red” display the message “I like red too”, otherwise display the message \n",
    "“I don’t like [colour], I prefer red”. "
   ]
  },
  {
   "cell_type": "code",
   "execution_count": 45,
   "metadata": {},
   "outputs": [
    {
     "name": "stdout",
     "output_type": "stream",
     "text": [
      "I like red too\n"
     ]
    }
   ],
   "source": [
    "color= input(\"Please enter your favorite color\").lower()\n",
    "\n",
    "if color=='red':\n",
    "    print(\"I like red too\")\n",
    "else:\n",
    "    print(\"I don't like color \" + color)"
   ]
  },
  {
   "cell_type": "markdown",
   "metadata": {},
   "source": [
    "Ask the user if it is raining and convert their answer to lower case so it doesn’t matter what case they type it in. If they answer “yes”, \n",
    "ask if it is windy. If they answer “yes” to this second question, display the answer “It is too windy for an umbrella”, otherwise \n",
    "display the message “Take an umbrella”. If they did not answer yes to the first question, display the answer “Enjoy your day”. "
   ]
  },
  {
   "cell_type": "code",
   "execution_count": 47,
   "metadata": {},
   "outputs": [
    {
     "name": "stdout",
     "output_type": "stream",
     "text": [
      "It's too windy for an umbrella\n"
     ]
    }
   ],
   "source": [
    "rain_check= input(\"Please is it rainning 'yes' or 'no' \").lower()\n",
    "if rain_check == \"yes\":\n",
    "    wind_check = input(\"Is it windy? 'yes' or 'no' \").lower() \n",
    "    if wind_check== \"yes\":\n",
    "         print(\"It's too windy for an umbrella\")\n",
    "    else:\n",
    "        print(\"Take an umbrella\")\n",
    "else:\n",
    "    print(\"Enjoy your day\")\n",
    "\n"
   ]
  },
  {
   "cell_type": "markdown",
   "metadata": {},
   "source": [
    "Ask the user’s age. If they are 18 or over, display the message “You can vote”, if they are aged 17, display the message “You can learn to drive”, if they are 16, display \n",
    "the message “You can buy a lottery ticket”, if they are under 16, display the message “You can go Trickor-Treating”. \n"
   ]
  },
  {
   "cell_type": "code",
   "execution_count": 50,
   "metadata": {},
   "outputs": [
    {
     "name": "stdout",
     "output_type": "stream",
     "text": [
      "You can go Trickor-Treating\n"
     ]
    }
   ],
   "source": [
    "age= int(input(\"Please how old are you ?\"))\n",
    "if age >= 18:\n",
    "    print(\"You can vote\")\n",
    "elif age == 17:\n",
    "    print(\"You can learn to drive\")\n",
    "\n",
    "elif age >= 16:\n",
    "    print(\"You can buy a lottery ticket\")\n",
    "else:\n",
    "     print(\"You can go Trickor-Treating\")"
   ]
  },
  {
   "cell_type": "markdown",
   "metadata": {},
   "source": [
    "ask the user to enter a number. If it is under 10, display the message “Too low”, if their number is between 10 and 20, display “Correct”, otherwise display “Too high”."
   ]
  },
  {
   "cell_type": "code",
   "execution_count": 57,
   "metadata": {},
   "outputs": [
    {
     "name": "stdout",
     "output_type": "stream",
     "text": [
      "correct\n"
     ]
    }
   ],
   "source": [
    "age= int(input(\"Please how old are you ?\"))\n",
    "if age < 10:\n",
    "    print(\"too low\")\n",
    "elif age>= 10 and age <= 20:\n",
    "    print(\"correct\")\n",
    "else:\n",
    "    print(\"Too high\")"
   ]
  },
  {
   "cell_type": "markdown",
   "metadata": {},
   "source": [
    "sk the user to enter 1, 2 or 3. If they enter a 1, display \n",
    "the message “Thank you”, if they enter a 2, display \n",
    "“Well done”, if they enter a 3, display “Correct”. If \n",
    "they enter anything else, display “Error message”. "
   ]
  },
  {
   "cell_type": "code",
   "execution_count": 61,
   "metadata": {},
   "outputs": [
    {
     "name": "stdout",
     "output_type": "stream",
     "text": [
      "error message\n"
     ]
    }
   ],
   "source": [
    "num=int(input(\"please enter 1, 2,or3\"))\n",
    "if num==1:\n",
    "    print(\"Thank you\")\n",
    "elif num==2:\n",
    "    print(\"well done\")\n",
    "elif num==3:\n",
    "    print(\"correct\")\n",
    "else:\n",
    "    print(\"error message\")\n"
   ]
  },
  {
   "cell_type": "code",
   "execution_count": 32,
   "metadata": {},
   "outputs": [
    {
     "name": "stdout",
     "output_type": "stream",
     "text": [
      "20\n"
     ]
    }
   ],
   "source": [
    "print(40//2)"
   ]
  },
  {
   "cell_type": "code",
   "execution_count": 2,
   "metadata": {},
   "outputs": [
    {
     "data": {
      "text/plain": [
       "20"
      ]
     },
     "execution_count": 2,
     "metadata": {},
     "output_type": "execute_result"
    }
   ],
   "source": [
    "#1. Write a Python function to find the maximum of three numbers. \n",
    "def max_num(x,y,z):\n",
    "    max_value= max(x,y,z)\n",
    "    return max_value\n",
    "\n",
    "max_num(12,10,20)"
   ]
  },
  {
   "cell_type": "code",
   "execution_count": 4,
   "metadata": {},
   "outputs": [
    {
     "data": {
      "text/plain": [
       "100"
      ]
     },
     "execution_count": 4,
     "metadata": {},
     "output_type": "execute_result"
    }
   ],
   "source": [
    "#1. Write a Python function to find the maximum of three numbers. \n",
    "def max_num(*args):\n",
    "    max_value= max(args)\n",
    "    return max_value\n",
    "\n",
    "max_num(12,10,20,40,50,100)"
   ]
  },
  {
   "cell_type": "code",
   "execution_count": 10,
   "metadata": {},
   "outputs": [
    {
     "data": {
      "text/plain": [
       "'the list sum cannot be less than 20'"
      ]
     },
     "execution_count": 10,
     "metadata": {},
     "output_type": "execute_result"
    }
   ],
   "source": [
    "#2. Write a Python function to sum all the numbers in a list.\n",
    "#Sample List : (8, 2, 3, 0, 7)\n",
    "def list_sum(*args):\n",
    "    sum_list= sum(args)\n",
    "    if sum_list == 20:\n",
    "        return \"Thanks, the list enter = \", sum_list, \"which exactly what you are ask to do\"\n",
    "    elif sum_list > 20:\n",
    "        return \"the list sum is greater than 20\"\n",
    "    else:\n",
    "        return \"the list sum cannot be less than 20\"\n",
    "    \n",
    "list_sum(1,-8)\n",
    "\n",
    "  "
   ]
  },
  {
   "cell_type": "code",
   "execution_count": 56,
   "metadata": {},
   "outputs": [
    {
     "name": "stdout",
     "output_type": "stream",
     "text": [
      "1\n",
      "2\n",
      "3\n",
      "4\n",
      "5\n",
      "9\n",
      "4\n"
     ]
    },
    {
     "data": {
      "text/plain": [
       "4320"
      ]
     },
     "execution_count": 56,
     "metadata": {},
     "output_type": "execute_result"
    }
   ],
   "source": [
    "#3. Write a Python function to multiply all the numbers in a list.\n",
    "#Sample List : (8, 2, 3, -1, 7)\n",
    "#Expected Output : -336 \n",
    "\n",
    "def multiply_list(*args):\n",
    "    \n",
    "    total=1\n",
    "    for i in args:\n",
    "        print(i)\n",
    "        total*=i\n",
    "        #ans=int(args[0]*args[1])\n",
    "    return total\n",
    " \n",
    "multiply_list(1,2,3,4,5,9,4)"
   ]
  },
  {
   "cell_type": "code",
   "execution_count": 53,
   "metadata": {},
   "outputs": [
    {
     "name": "stdout",
     "output_type": "stream",
     "text": [
      "-336\n"
     ]
    }
   ],
   "source": [
    "# Define a function named 'multiply' that takes a list of numbers as input\n",
    "def multiply(numbers):\n",
    "    # Initialize a variable 'total' to store the multiplication result, starting at 1\n",
    "    total = 1\n",
    "    \n",
    "    # Iterate through each element 'x' in the 'numbers' list\n",
    "    for x in numbers:\n",
    "        # Multiply the current element 'x' with the 'total'\n",
    "        total *= x\n",
    "    \n",
    "    # Return the final multiplication result stored in the 'total' variable\n",
    "    return total\n",
    "\n",
    "# Print the result of calling the 'multiply' function with a tuple of numbers (8, 2, 3, -1, 7)\n",
    "print(multiply((8, 2, 3, -1, 7))) "
   ]
  },
  {
   "cell_type": "code",
   "execution_count": 31,
   "metadata": {},
   "outputs": [
    {
     "name": "stdout",
     "output_type": "stream",
     "text": [
      "0\n",
      "1\n",
      "2\n",
      "3\n",
      "4\n",
      "5\n",
      "6\n",
      "7\n",
      "8\n",
      "9\n"
     ]
    }
   ],
   "source": [
    "for i in range(10):\n",
    "    print (i)"
   ]
  },
  {
   "cell_type": "code",
   "execution_count": 112,
   "metadata": {},
   "outputs": [
    {
     "data": {
      "text/plain": [
       "'dcba4321'"
      ]
     },
     "execution_count": 112,
     "metadata": {},
     "output_type": "execute_result"
    }
   ],
   "source": [
    "#4. Write a Python program to reverse a string.\n",
    "#Sample String : \"1234abcd\"\n",
    "#Expected Output : \"dcba4321\"\n",
    "def rev_char(str1):\n",
    "    index= len(str1)\n",
    "    res=''\n",
    "    while index > 0:\n",
    "        res+=str1[index-1]\n",
    "        index=index-1\n",
    "    return res\n",
    "rev_char('1234abcd')"
   ]
  },
  {
   "cell_type": "code",
   "execution_count": null,
   "metadata": {},
   "outputs": [],
   "source": []
  },
  {
   "cell_type": "code",
   "execution_count": 91,
   "metadata": {},
   "outputs": [
    {
     "name": "stdout",
     "output_type": "stream",
     "text": [
      "['TSLA', 'HP', 'GOOG', 'GE', 'AMZN']\n"
     ]
    }
   ],
   "source": [
    "stock_list=['AMZN','GE','GOOG','HP','TSLA']\n",
    "stock_list.reverse()\n",
    "print(stock_list)\n"
   ]
  },
  {
   "cell_type": "code",
   "execution_count": 64,
   "metadata": {},
   "outputs": [
    {
     "name": "stdout",
     "output_type": "stream",
     "text": [
      "<reversed object at 0x000001BB3C72DF90>\n"
     ]
    }
   ],
   "source": [
    "print(reversed(\"1234abcd\"))"
   ]
  },
  {
   "cell_type": "code",
   "execution_count": 49,
   "metadata": {},
   "outputs": [
    {
     "data": {
      "text/plain": [
       "-336"
      ]
     },
     "execution_count": 49,
     "metadata": {},
     "output_type": "execute_result"
    }
   ],
   "source": [
    "def mut_li():\n",
    "    mult_list= (8, 2, 3, -1, 7)\n",
    "    #for i in mult_list:\n",
    "    ans=mult_list[0]*mult_list[1]*mult_list[3]*mult_list[4]*mult_list[2]\n",
    "    #print(ans)\n",
    "    return ans\n",
    "mut_li()"
   ]
  },
  {
   "cell_type": "markdown",
   "metadata": {},
   "source": [
    "5. Write a Python function to calculate the factorial of a number (a non-negative integer). The function accepts the number as an argument. \n",
    " \t\n",
    "\n",
    "The factorial function (symbol: !) says to multiply all whole numbers from our chosen number down to 1.\n",
    "\n",
    "Examples:\n",
    "\n",
    "    4! = 4 × 3 × 2 × 1 = 24"
   ]
  },
  {
   "cell_type": "code",
   "execution_count": 57,
   "metadata": {},
   "outputs": [
    {
     "name": "stdout",
     "output_type": "stream",
     "text": [
      "[10, 9, 8, 7, 6, 5, 4, 3, 2, 1]\n"
     ]
    },
    {
     "data": {
      "text/plain": [
       "3628800"
      ]
     },
     "execution_count": 57,
     "metadata": {},
     "output_type": "execute_result"
    }
   ],
   "source": [
    "def  fact(num):\n",
    "    res=[num]\n",
    "    while num > 0:\n",
    "        res2=num-1\n",
    "        if res2 !=0:\n",
    "            res.append(res2)\n",
    "        num= num-1\n",
    "    print(res)\n",
    "    index=len(res)\n",
    "    res1= 1\n",
    "    while index > 0:\n",
    "        res1*= res[index-1]\n",
    "        index= index-1\n",
    "    return res1\n",
    "\n",
    "        \n",
    "fact(10)"
   ]
  },
  {
   "cell_type": "code",
   "execution_count": 63,
   "metadata": {},
   "outputs": [
    {
     "data": {
      "text/plain": [
       "('20', ' is in the range of ', 100)"
      ]
     },
     "execution_count": 63,
     "metadata": {},
     "output_type": "execute_result"
    }
   ],
   "source": [
    "#6. Write a Python function to check whether a number falls within a given range. \n",
    "\n",
    "def num_check(num,num1):\n",
    "    store=[]\n",
    "    for i in range(num):\n",
    "        store.append(i)\n",
    "        \n",
    "        if num1 in store:\n",
    "            sa= num1,' is in the range of ', num\n",
    "        else:\n",
    "            sa= num1, 'is out of range ', num\n",
    "    return sa\n",
    "num_check(100,120)\n"
   ]
  },
  {
   "cell_type": "markdown",
   "metadata": {},
   "source": [
    "7. Write a Python function that accepts a string and counts the number of upper and lower case letters.\n",
    "Sample String : 'The quick Brow Fox'\n",
    "Expected Output :\n",
    "No. of Upper case characters : 3\n",
    "No. of Lower case Characters : 12"
   ]
  },
  {
   "cell_type": "code",
   "execution_count": 74,
   "metadata": {},
   "outputs": [
    {
     "data": {
      "text/plain": [
       "('No. of Upper case characters : ',\n",
       " 2,\n",
       " 'while the No. of Lower case Characters :',\n",
       " 21)"
      ]
     },
     "execution_count": 74,
     "metadata": {},
     "output_type": "execute_result"
    }
   ],
   "source": [
    "def str_check():\n",
    "    Uper_count=0\n",
    "    Lower_count=0\n",
    "    Sample_String = 'No of Upper case characters'\n",
    "    for i in Sample_String:\n",
    "        if i==i.lower().strip(' '):\n",
    "         \n",
    "            Lower_count+=1\n",
    "           # print(Uper_count)\n",
    "        elif i== i.upper().strip(' '):\n",
    "           \n",
    "            Uper_count+=1\n",
    "        else:\n",
    "            pass\n",
    "    return 'No. of Upper case characters : ', Uper_count, 'while the No. of Lower case Characters :', Lower_count\n",
    "str_check()"
   ]
  },
  {
   "cell_type": "markdown",
   "metadata": {},
   "source": [
    "8. Write a Python function that takes a list and returns a new list with distinct elements from the first list.\n",
    "Sample List : [1,2,3,3,3,3,4,5]\n",
    "Unique List : [1, 2, 3, 4, 5]"
   ]
  },
  {
   "cell_type": "code",
   "execution_count": 91,
   "metadata": {},
   "outputs": [
    {
     "data": {
      "text/plain": [
       "[1, 2, 3, 4, 5, 8, 9]"
      ]
     },
     "execution_count": 91,
     "metadata": {},
     "output_type": "execute_result"
    }
   ],
   "source": [
    "def uniquelist(arr_list):\n",
    "    #Sample_List = [1,2,3,3,3,3,4,5]\n",
    "    \n",
    "    uni_val=set(arr_list)\n",
    "    unique_list= list(uni_val)\n",
    "   \n",
    "    return unique_list\n",
    "\n",
    "uniquelist([1,2,3,3,3,3,4,5,9,8,9])"
   ]
  },
  {
   "cell_type": "markdown",
   "metadata": {},
   "source": [
    "9. Write a Python function that takes a number as a parameter and checks whether the number is prime or not.\n",
    "Note : A prime number (or a prime) is a natural number greater than 1 and that has no positive divisors other than 1 and itself. "
   ]
  },
  {
   "cell_type": "code",
   "execution_count": 170,
   "metadata": {},
   "outputs": [
    {
     "data": {
      "text/plain": [
       "(0, ' is not a prime number')"
      ]
     },
     "execution_count": 170,
     "metadata": {},
     "output_type": "execute_result"
    }
   ],
   "source": [
    "def prime_no_check(num):\n",
    "   \n",
    "    if num <0 :\n",
    "        check='you inserted negative number' \n",
    "    elif num%2 and num !=1:\n",
    "        \n",
    "            \n",
    "        check='You inserted ', num, 'which prime number'\n",
    "    else:\n",
    "        check= num, ' is not a prime number'\n",
    "    return check       \n",
    "prime_no_check(0)"
   ]
  },
  {
   "cell_type": "code",
   "execution_count": 113,
   "metadata": {},
   "outputs": [
    {
     "data": {
      "text/plain": [
       "[7, 5, 3, 9]"
      ]
     },
     "execution_count": 113,
     "metadata": {},
     "output_type": "execute_result"
    }
   ],
   "source": [
    "def prime_no_check(num):\n",
    "    index=len(num)\n",
    "    check=[]\n",
    "    while index > 0:\n",
    "        \n",
    "        index=index-1\n",
    "        if num[index-1]%2 and num[index-1] !=1 :\n",
    "            \n",
    "            s=num[index-1]\n",
    "            check.append(s)\n",
    "        else:\n",
    "            pass\n",
    "    return check       \n",
    "prime_no_check([1,2,3,4,5,6,7,8,9])"
   ]
  },
  {
   "cell_type": "markdown",
   "metadata": {},
   "source": [
    "10. Write a Python program to print the even numbers from a given list.\n",
    "Sample List : [1, 2, 3, 4, 5, 6, 7, 8, 9]\n",
    "Expected Result : [2, 4, 6, 8]"
   ]
  },
  {
   "cell_type": "code",
   "execution_count": 207,
   "metadata": {},
   "outputs": [
    {
     "data": {
      "text/plain": [
       "[2, 4, 6, 8]"
      ]
     },
     "execution_count": 207,
     "metadata": {},
     "output_type": "execute_result"
    }
   ],
   "source": [
    "def print_even():\n",
    "    SampleList = [1, 2, 3, 4, 5, 6, 7, 8, 9]\n",
    "    even_no=[]\n",
    "    index= len(SampleList)\n",
    "    while index >0:\n",
    "  \n",
    "        if not SampleList[index-1]%2:\n",
    "            #print(SampleList[index-1])\n",
    "            s=SampleList[index-1]\n",
    "            #print(s)\n",
    "            even_no.append(s)\n",
    "                \n",
    "            #return even_no\n",
    "        else:\n",
    "            pass\n",
    "\n",
    "        index= index-1\n",
    "    return sorted(even_no) \n",
    "\n",
    "print_even()"
   ]
  },
  {
   "cell_type": "markdown",
   "metadata": {},
   "source": [
    "11. Write a Python function to check whether a number is \"Perfect\" or not.\n",
    "According to Wikipedia : In number theory, a perfect number is a positive integer that is equal to the sum of its proper positive divisors, that is, the sum of its positive divisors excluding the number itself (also known as its aliquot sum). Equivalently, a perfect number is a number that is half the sum of all of its positive divisors (including itself).\n",
    "Example : The first perfect number is 6, because 1, 2, and 3 are its proper positive divisors, and 1 + 2 + 3 = 6. Equivalently, the number 6 is equal to half the sum of all its positive divisors: ( 1 + 2 + 3 + 6 ) / 2 = 6. The next perfect number is 28 = 1 + 2 + 4 + 7 + 14. This is followed by the perfect numbers 496 and 8128. "
   ]
  },
  {
   "cell_type": "code",
   "execution_count": 218,
   "metadata": {},
   "outputs": [
    {
     "data": {
      "text/plain": [
       "(14, 'is the perfect no in the list')"
      ]
     },
     "execution_count": 218,
     "metadata": {},
     "output_type": "execute_result"
    }
   ],
   "source": [
    "\n",
    "def perfect_no(num):\n",
    "    perfect_list=None\n",
    "\n",
    "    sum_list=sum(num)/2\n",
    "    perfect=int(sum_list)\n",
    "    for i in num:\n",
    "        if i == perfect:\n",
    "            perfect_list=i,'is the perfect no in the list'\n",
    "        else:\n",
    "            perfect_list=\"there's no perfect no in the supply list\"\n",
    "    return perfect_list\n",
    "    \n",
    "perfect_no([1,2,4,7,14])\n"
   ]
  },
  {
   "cell_type": "markdown",
   "metadata": {},
   "source": [
    "12. Write a Python function that checks whether a passed string is a palindrome or not.\n",
    "Note: A palindrome is a word, phrase, or sequence that reads the same backward as forward, e.g., madam or nurses run."
   ]
  },
  {
   "cell_type": "code",
   "execution_count": 225,
   "metadata": {},
   "outputs": [
    {
     "name": "stdout",
     "output_type": "stream",
     "text": [
      "m\n",
      "a\n",
      "d\n",
      "a\n",
      "m\n",
      "madam\n"
     ]
    }
   ],
   "source": [
    "word= 'madam'\n",
    "new_word=''\n",
    "for i in word:\n",
    "    print(i)\n",
    "    new_word+=i\n",
    "print(new_word)"
   ]
  },
  {
   "cell_type": "code",
   "execution_count": 242,
   "metadata": {},
   "outputs": [
    {
     "data": {
      "text/plain": [
       "'madam is a palindrome word'"
      ]
     },
     "execution_count": 242,
     "metadata": {},
     "output_type": "execute_result"
    }
   ],
   "source": [
    "def palindrom(word):\n",
    "    index= len(word)\n",
    "    pali=''\n",
    "    new=''\n",
    "    while index > 0:\n",
    "        new+=word[index-1]\n",
    "        index=index-1\n",
    "    if word== new:\n",
    "        pali= new + ' is a palindrome word'\n",
    "    else:\n",
    "        pali= new + ' is not a palindrome word'\n",
    "    return pali\n",
    "palindrom('madam')\n",
    "\n",
    "\n"
   ]
  },
  {
   "cell_type": "markdown",
   "metadata": {},
   "source": [
    "13. Write a Python function that prints out the first n rows of Pascal's triangle.\n",
    "Note : Pascal's triangle is an arithmetic and geometric figure first imagined by Blaise Pascal."
   ]
  },
  {
   "cell_type": "code",
   "execution_count": null,
   "metadata": {},
   "outputs": [],
   "source": []
  },
  {
   "cell_type": "markdown",
   "metadata": {},
   "source": [
    "14. Write a Python function to check whether a string is a pangram or not.\n",
    "Note : Pangrams are words or sentences containing every letter of the alphabet at least once.\n",
    "For example : \"The quick brown fox jumps over the lazy dog\" "
   ]
  },
  {
   "cell_type": "code",
   "execution_count": 71,
   "metadata": {},
   "outputs": [
    {
     "data": {
      "text/plain": [
       "'the string is not pangram'"
      ]
     },
     "execution_count": 71,
     "metadata": {},
     "output_type": "execute_result"
    }
   ],
   "source": [
    "import string\n",
    "import sys\n",
    "def pangrams(alpha):\n",
    "    alphabet='abcdefghijklmnopqrstuvwxyz'\n",
    "    #alphabet=string.ascii_lowercase\n",
    "    pangs=''\n",
    "\n",
    "    if  set(alphabet) <= set(alpha.lower())   :\n",
    "\n",
    "        pangs='the string is a pangram'\n",
    "    else:\n",
    "        pangs='the string is not pangram'\n",
    "    return pangs\n",
    "\n",
    "        \n",
    "        \n",
    "pangrams(\"The quick brown fox jumps over the lazy dog\")"
   ]
  },
  {
   "cell_type": "markdown",
   "metadata": {},
   "source": [
    "15. Write a Python program that accepts a hyphen-separated sequence of words as input and prints the words in a hyphen-separated sequence after sorting them alphabetically.\n",
    "Sample Items : green-red-yellow-black-white\n",
    "Expected Result : black-green-red-white-yellow"
   ]
  },
  {
   "cell_type": "code",
   "execution_count": 94,
   "metadata": {},
   "outputs": [
    {
     "name": "stdout",
     "output_type": "stream",
     "text": [
      "green-yello-blue-\n"
     ]
    }
   ],
   "source": [
    "stri=['green','yello','blue']\n",
    "s=''\n",
    "for i in stri:\n",
    "    s+=i+ '-'\n",
    "print(s)"
   ]
  },
  {
   "cell_type": "code",
   "execution_count": 100,
   "metadata": {},
   "outputs": [
    {
     "data": {
      "text/plain": [
       "'black-green-red-white-yellow'"
      ]
     },
     "execution_count": 100,
     "metadata": {},
     "output_type": "execute_result"
    }
   ],
   "source": [
    "\n",
    "def str_sorted_by_hyphen(word):\n",
    "    #word=\"The quick brown fox jumps over the lazy dog\".lower()\n",
    "    split_word= str(word).lower().split('-')\n",
    "\n",
    "    sorted_word=sorted(split_word)\n",
    "    join_word=''\n",
    "    for i in sorted_word:\n",
    "        join_word+= i+ '-'\n",
    "\n",
    "    return join_word.strip('-')\n",
    "\n",
    "str_sorted_by_hyphen('green-red-yellow-black-white')"
   ]
  },
  {
   "cell_type": "markdown",
   "metadata": {},
   "source": [
    "17. Write a Python function to create and print a list where the values are the squares of numbers between 1 and 30 (both included). "
   ]
  },
  {
   "cell_type": "code",
   "execution_count": 128,
   "metadata": {},
   "outputs": [
    {
     "name": "stdout",
     "output_type": "stream",
     "text": [
      "1\n"
     ]
    }
   ],
   "source": [
    "def square_of_no():\n",
    "    s=[]\n",
    "    for i in (range(1,31)):\n",
    "        s.append(i)\n",
    "        if i**2 in s:\n",
    "            print(i)\n",
    "      \n",
    "      \n",
    "    \n",
    "    return \n",
    "\n",
    "square_of_no()"
   ]
  },
  {
   "cell_type": "markdown",
   "metadata": {},
   "source": [
    "18. Write a Python program to create a chain of function decorators (bold, italic, underline etc.)."
   ]
  },
  {
   "cell_type": "code",
   "execution_count": 132,
   "metadata": {},
   "outputs": [
    {
     "name": "stdout",
     "output_type": "stream",
     "text": [
      "<u><i><b>hello world</b></i></u>\n"
     ]
    }
   ],
   "source": [
    "def make_bold(fn):\n",
    "    def wrapped():\n",
    "\n",
    "        return '<b>' + fn()+ '</b>'\n",
    "    return wrapped\n",
    "\n",
    "def make_italic(fn):\n",
    "    def wrapped():\n",
    "\n",
    "        return '<i>'+ fn()+ '</i>'\n",
    "    return wrapped\n",
    "\n",
    "def make_underline(fn):\n",
    "    def wrapped():\n",
    "\n",
    "        return '<u>'+ fn()+ '</u>'\n",
    "    return wrapped\n",
    "\n",
    "@make_underline\n",
    "@make_italic\n",
    "@make_bold\n",
    "def hello():\n",
    "    return 'hello world'\n",
    "\n",
    "\n",
    "print(hello())"
   ]
  },
  {
   "cell_type": "markdown",
   "metadata": {},
   "source": [
    "18. Write a Python program to execute a string containing Python code. "
   ]
  },
  {
   "cell_type": "code",
   "execution_count": null,
   "metadata": {},
   "outputs": [],
   "source": []
  },
  {
   "cell_type": "code",
   "execution_count": 133,
   "metadata": {},
   "outputs": [
    {
     "name": "stdout",
     "output_type": "stream",
     "text": [
      "hello world\n",
      "Multiply of 2 and 3 is:  6\n"
     ]
    }
   ],
   "source": [
    "# Define a string variable 'mycode' containing a Python code as a string\n",
    "mycode = 'print(\"hello world\")'\n",
    "\n",
    "# Define a multi-line string variable 'code' containing Python code as a string\n",
    "code = \"\"\"\n",
    "def mutiply(x,y):\n",
    "    return x*y\n",
    "\n",
    "print('Multiply of 2 and 3 is: ',mutiply(2,3))\n",
    "\"\"\"\n",
    "\n",
    "# Execute the Python code represented by the string stored in the variable 'mycode'\n",
    "exec(mycode)\n",
    "\n",
    "# Execute the Python code represented by the multi-line string stored in the variable 'code'\n",
    "exec(code) "
   ]
  },
  {
   "cell_type": "markdown",
   "metadata": {},
   "source": [
    "19. Write a Python program to access a function inside a function. "
   ]
  },
  {
   "cell_type": "code",
   "execution_count": 138,
   "metadata": {},
   "outputs": [
    {
     "name": "stdout",
     "output_type": "stream",
     "text": [
      "9\n"
     ]
    }
   ],
   "source": [
    "# Define a function named 'test' that takes a parameter 'a'\n",
    "def test(a):\n",
    "    # Define a nested function 'add' that takes a parameter 'b'\n",
    "    def add(b):\n",
    "        # Declare 'a' from the outer scope as nonlocal to modify its value\n",
    "        nonlocal a\n",
    "        \n",
    "        # Increment the value of 'a' by 1\n",
    "        a += 1\n",
    "        \n",
    "        # Return the sum of 'a' (modified by the nonlocal statement) and 'b'\n",
    "        return a + b\n",
    "    \n",
    "    # Return the inner function 'add' and its scope is retained due to closure\n",
    "    return add\n",
    "\n",
    "# Call the 'test' function with an argument '4' and assign the returned function to 'func'\n",
    "func = test(4)\n",
    "\n",
    "# Call the function 'func' with argument '4' and print the result\n",
    "print(func(4)) "
   ]
  },
  {
   "cell_type": "markdown",
   "metadata": {},
   "source": [
    "20. Write a Python program to detect the number of local variables declared in a function.\n",
    "Sample Output:\n",
    "3"
   ]
  },
  {
   "cell_type": "code",
   "execution_count": 139,
   "metadata": {},
   "outputs": [
    {
     "name": "stdout",
     "output_type": "stream",
     "text": [
      "3\n"
     ]
    }
   ],
   "source": [
    "# Define a function named 'abc'\n",
    "def abc():\n",
    "    # Define and assign values to local variables 'x', 'y', and 'str1' inside the function 'abc'\n",
    "    x = 1\n",
    "    y = 2\n",
    "    str1 = \"w3resource\"\n",
    "    \n",
    "    # Print the string \"Python Exercises\"\n",
    "    print(\"Python Exercises\")\n",
    "\n",
    "# Access the number of local variables in the function 'abc' using the __code__.co_nlocals attribute\n",
    "print(abc.__code__.co_nlocals)"
   ]
  },
  {
   "cell_type": "markdown",
   "metadata": {},
   "source": [
    "21. Write a Python program that invokes a function after a specified period of time.\n",
    "Sample Output:\n",
    "Square root after specific miliseconds:\n",
    "4.0\n",
    "10.0\n",
    "158.42979517754858"
   ]
  },
  {
   "cell_type": "code",
   "execution_count": 143,
   "metadata": {},
   "outputs": [
    {
     "name": "stdout",
     "output_type": "stream",
     "text": [
      "Square root after specific milliseconds:\n",
      "4.0\n",
      "10.0\n",
      "158.42979517754858\n"
     ]
    }
   ],
   "source": [
    " # Import specific functions 'sleep' from the 'time' module and the 'math' module\n",
    "from time import sleep\n",
    "import math\n",
    "\n",
    "# Define a function named 'delay' that delays the execution of a function by the given milliseconds\n",
    "def delay(fn, ms, *args):\n",
    "    # Sleep for the specified number of milliseconds\n",
    "    sleep(ms / 1000)\n",
    "    \n",
    "    # Call the provided function 'fn' with the given arguments '*args' and return the result\n",
    "    return fn(*args)\n",
    "\n",
    "# Print a message indicating the operation that follows\n",
    "print(\"Square root after specific milliseconds:\") \n",
    "\n",
    "# Call the 'delay' function with a lambda function to calculate square roots after specific delays\n",
    "# Print the square root of 16 after a delay of 100 milliseconds\n",
    "print(delay(lambda x: math.sqrt(x), 100, 16))\n",
    "\n",
    "# Print the square root of 100 after a delay of 1000 milliseconds\n",
    "print(delay(lambda x: math.sqrt(x), 1000, 100))\n",
    "\n",
    "# Print the square root of 25100 after a delay of 2000 milliseconds\n",
    "print(delay(lambda x: math.sqrt(x), 2000, 25100))\n"
   ]
  },
  {
   "cell_type": "markdown",
   "metadata": {},
   "source": [
    "Exercise 5.2 Suppose a list contains numbers and text. Write a code to extract all\n",
    "the text from the list."
   ]
  },
  {
   "cell_type": "code",
   "execution_count": 144,
   "metadata": {},
   "outputs": [
    {
     "name": "stdout",
     "output_type": "stream",
     "text": [
      "[1, 2, 34, 6]\n"
     ]
    }
   ],
   "source": [
    "minlist=['asd',1,2,'dfr',34,'34',6]\n",
    "new_list=[i for i in minlist if type(i)==int ]\n",
    "print(new_list)"
   ]
  },
  {
   "cell_type": "code",
   "execution_count": 154,
   "metadata": {},
   "outputs": [
    {
     "name": "stdout",
     "output_type": "stream",
     "text": [
      "[4, 1, 10, 2, 16, 3, 22, 4, 28, 5, 34, 6, 40, 7, 46, 8, 52, 9, 58]\n"
     ]
    }
   ],
   "source": [
    "odd_even=[i//2  if i % 2 == 0  else 3*i +1 for i in range(1, 20)]\n",
    "print(odd_even)"
   ]
  },
  {
   "cell_type": "markdown",
   "metadata": {},
   "source": [
    "5.2.2 Dictionaries\n",
    "Dictionaries are another way to collect and organise data. They come in pairs, a key\n",
    "and values associated to the key. Both keys and values are objects. However keys are\n",
    "unmutable objects whereas values can be mutable. We start by defning a dictionary\n",
    "which consists of four keys, A, B, C, D and the values associated to them. The\n",
    "example shows how to access the values and how to add more data to the dictionary"
   ]
  },
  {
   "cell_type": "code",
   "execution_count": 171,
   "metadata": {},
   "outputs": [
    {
     "name": "stdout",
     "output_type": "stream",
     "text": [
      "70\n",
      "[70, 70, 50, 40, 30, [12, 13, 14, 28]]\n",
      "True\n",
      "False\n",
      "{'A': 70, 'B': 70, 'C': 50, 'E': 40, 'm_range': [12, 13, 14, 28]}\n",
      "[12, 13, 14, 28]\n",
      "{'A': 70, 'B': 70, 'C': 50, 'E': 40}\n",
      "{'A': 70, 'B': 70, 'C': 50, 'E': 40, 'check': 34, 'uncheck': -34}\n"
     ]
    }
   ],
   "source": [
    "score={\"A\":80,\"B\":70,\"C\":50,\"E\":40,'F':30}\n",
    "#print(score.keys())\n",
    "#print(score.values())\n",
    "#print(score)\n",
    "score['A']=70\n",
    "print(score[\"A\"])\n",
    "score[\"m_range\"]=[12,13,14,28]\n",
    "\n",
    "dic_loop=[score[i] for i in score]\n",
    "print(dic_loop)\n",
    "print('A' in score)\n",
    "print(70 in score)\n",
    "del score['F']\n",
    "print(score)\n",
    "print(score.pop(\"m_range\"))\n",
    "print(score)\n",
    "score.update({'check':34, 'uncheck':-34})\n",
    "print(score)"
   ]
  },
  {
   "cell_type": "markdown",
   "metadata": {},
   "source": [
    "5.2 Sets and Dictionaries 141\n",
    "One way to build a dictionary from two lists is to use the method zip. If ? =\n",
    "(?1, ?2, . . . , ??) and ? = (?1, ?2, . . . , ??), then zip(x,y) will pair elements of ? and\n",
    "?"
   ]
  },
  {
   "cell_type": "code",
   "execution_count": 183,
   "metadata": {},
   "outputs": [
    {
     "name": "stdout",
     "output_type": "stream",
     "text": [
      "[('A', 1), ('B', 2), ('C', 3)]\n",
      "{'A': 1, 'B': 2, 'C': 3}\n",
      "{'A': 1, 'B': 2, 'C': 3}\n",
      "{'A': 1, 'B': 2, 'C': 3}\n",
      "does not exist\n",
      "{'a': ['Momento', 'malomo'], 'b': 2, 'c': 3}\n"
     ]
    }
   ],
   "source": [
    "x=('A','B','C')\n",
    "y=(1,2,3)\n",
    "_zip=list(zip(x,y))\n",
    "print(_zip)\n",
    "\n",
    "L={}\n",
    "for keys, values in zip(x,y):\n",
    "    L[keys]=values\n",
    "\n",
    "print(L)\n",
    "\n",
    "L2= {keys:values for keys, values in zip(x,y)}\n",
    "print(L2)\n",
    "L3 = dict(zip(x, y))\n",
    "print(L3)\n",
    "#Oftentimes we need to return a certain value if the key we are looking for is not in the list. In this case we can use get with a default value.\n",
    "L.get('z','does not exist')\n",
    "print(L.get('z','does not exist'))\n",
    "p={'a': ['Momento'], 'b': 2, 'c': 3}\n",
    "p['a'].append('malomo')\n",
    "print(p)"
   ]
  },
  {
   "cell_type": "markdown",
   "metadata": {},
   "source": [
    "Exercise 5.14 Write a program to create a dictionary with two keys even and odd\n",
    "and collect even and odd numbers from 1 to 20 into the corresponding keys."
   ]
  },
  {
   "cell_type": "code",
   "execution_count": 189,
   "metadata": {},
   "outputs": [
    {
     "name": "stdout",
     "output_type": "stream",
     "text": [
      "[1, 3, 5, 7, 9, 11, 13, 15, 17, 19]\n",
      "[2, 4, 6, 8, 10, 12, 14, 16, 18]\n"
     ]
    }
   ],
   "source": [
    "x= [i  for i in range(1,20) if i%2 ]\n",
    "y=[i  for i in range(1,20) if i%2==0 ]\n",
    "print(x)\n",
    "print(y)"
   ]
  },
  {
   "cell_type": "code",
   "execution_count": 191,
   "metadata": {},
   "outputs": [
    {
     "name": "stdout",
     "output_type": "stream",
     "text": [
      "{'odd': [1, 3, 5, 7, 9, 11, 13, 15, 17, 19], 'even': [2, 4, 6, 8, 10, 12, 14, 16, 18, 20]}\n"
     ]
    }
   ],
   "source": [
    "l={'odd':[],'even':[]}\n",
    "for i in range (1, 21):\n",
    "    if i%2:\n",
    "        l['odd'].append(i)\n",
    "    else:\n",
    "        l['even'].append(i)\n",
    "\n",
    "print(l)\n",
    "\n"
   ]
  }
 ],
 "metadata": {
  "kernelspec": {
   "display_name": "Python 3",
   "language": "python",
   "name": "python3"
  },
  "language_info": {
   "codemirror_mode": {
    "name": "ipython",
    "version": 3
   },
   "file_extension": ".py",
   "mimetype": "text/x-python",
   "name": "python",
   "nbconvert_exporter": "python",
   "pygments_lexer": "ipython3",
   "version": "3.10.4"
  },
  "orig_nbformat": 4
 },
 "nbformat": 4,
 "nbformat_minor": 2
}
