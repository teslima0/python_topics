{
 "cells": [
  {
   "cell_type": "code",
   "execution_count": null,
   "metadata": {},
   "outputs": [],
   "source": []
  },
  {
   "cell_type": "markdown",
   "metadata": {},
   "source": [
    "Comprehensive Tutorial on File Handling in Python\n",
    "\n",
    "\n",
    "File handling is an essential aspect of programming, allowing you to read from and write to files on your computer. Python provides a variety of built-in functions and methods for file handling, making it straightforward to work with files. This tutorial will cover the basics of file handling in Python, including reading from and writing to text files, handling different file modes, and best practices.\n",
    "\n",
    "1. Opening and Closing Files\n",
    "\n",
    "Opening a File\n",
    "\n",
    "To open a file in Python, you can use the built-in open() function. It takes two parameters: the file path and the mode in which you want to open the file.\n",
    "\n",
    "# Open a file in read mode\n",
    "\n",
    "file = open(\"example.txt\", \"r\")\n",
    "\n",
    "\n",
    "Closing a File\n",
    "\n",
    "\n",
    "It's essential to close the file after you're done working with it to free up system resources. You can close a file using the close() method.\n",
    "\n",
    "file.close()\n"
   ]
  },
  {
   "cell_type": "markdown",
   "metadata": {},
   "source": [
    "2. File Modes\n",
    "\n",
    "Python supports various modes for opening files, allowing you to perform different operations such as reading, writing, and appending. Some common file modes include:\n",
    "\n",
    "\"r\": Read mode. Opens the file for reading (default mode).\n",
    "\n",
    "\"w\": Write mode. Opens the file for writing. Creates a new file or overwrites existing content.\n",
    "\n",
    "\"a\": Append mode. Opens the file for appending new content to the end of the file.\n",
    "\n",
    "\"b\": Binary mode. Opens the file in binary mode for reading or writing binary data.\n",
    "\n",
    "\"r+\": Read/write mode. Opens the file for both reading and writing."
   ]
  },
  {
   "cell_type": "code",
   "execution_count": 1,
   "metadata": {},
   "outputs": [],
   "source": [
    "\n",
    "# Open a file in write mode\n",
    "file = open(\"example.txt\", \"w\")\n"
   ]
  },
  {
   "cell_type": "markdown",
   "metadata": {},
   "source": [
    "3. Reading from a File\n",
    "\n",
    "You can read the contents of a file using methods like read(), readline(), or readlines()."
   ]
  },
  {
   "cell_type": "markdown",
   "metadata": {},
   "source": [
    "read()\n",
    "\n",
    "# Read the entire content of the file\n",
    "content = file.read()\n",
    "\n",
    "print(content)\n",
    "\n",
    "\n",
    "readline()\n",
    "\n",
    "# Read one line at a time\n",
    "line = file.readline()\n",
    "\n",
    "print(line)\n",
    "\n",
    "\n",
    "readlines()\n",
    "\n",
    "# Read all lines into a list\n",
    "\n",
    "lines = file.readlines()\n",
    "\n",
    "for line in lines:\n",
    "\n",
    "    print(line)\n"
   ]
  },
  {
   "cell_type": "markdown",
   "metadata": {},
   "source": [
    "# 4. Writing to a File\n",
    "\n",
    "You can write to a file using methods like write()\n",
    "\n",
    "# Write content to the file\n",
    "\n",
    "file.write(\"Hello, World!\\n\")\n",
    "\n",
    "# 5. Appending to a File\n",
    "\n",
    "You can append new content to the end of a file using the append mode (\"a\")\n",
    "\n",
    "\n",
    "# Open the file in append mode\n",
    "file = open(\"example.txt\", \"a\")\n",
    "\n",
    "# Append content to the file\n",
    "file.write(\"Appending new content.\\n\")\n"
   ]
  },
  {
   "cell_type": "markdown",
   "metadata": {},
   "source": [
    "# 6. Best Practices\n",
    "\n",
    "Use Context Managers: Use the with statement to automatically close files after use. It ensures that the file is properly closed, even if an exception occurs.\n",
    "\n",
    "with open(\"example.txt\", \"r\") as file:\n",
    "\n",
    "    content = file.read()\n",
    "    \n",
    "    print(content)\n"
   ]
  },
  {
   "cell_type": "markdown",
   "metadata": {},
   "source": [
    "# Error Handling:\n",
    "\n",
    " Handle file-related errors such as file not found or permission denied using try-except blocks\n",
    "\n",
    " try:\n",
    "\n",
    "    file = open(\"nonexistent_file.txt\", \"r\")\n",
    "\n",
    "    content = file.read()\n",
    "\n",
    "    print(content)\n",
    "\n",
    "except FileNotFoundError:\n",
    "\n",
    "    print(\"File not found.\")\n",
    "\n",
    "except PermissionError\n",
    ":\n",
    "    print(\"Permission denied.\")\n"
   ]
  },
  {
   "cell_type": "markdown",
   "metadata": {},
   "source": [
    "# Unicode Encoding: \n",
    "\n",
    "Specify the encoding when working with text files to avoid encoding-related issues\n",
    "\n",
    "with open(\"example.txt\", \"r\", encoding=\"utf-8\") as file:\n",
    "\n",
    "    content = file.read()\n",
    "    \n",
    "    print(content)\n"
   ]
  },
  {
   "cell_type": "markdown",
   "metadata": {},
   "source": [
    "File handling in Python provides a powerful way to interact with files on your system. By mastering file handling techniques, you can efficiently read, write, and manipulate files in your Python programs. Experiment with different file modes and methods to become proficient in file handling."
   ]
  },
  {
   "cell_type": "code",
   "execution_count": null,
   "metadata": {},
   "outputs": [],
   "source": []
  }
 ],
 "metadata": {
  "kernelspec": {
   "display_name": "Python 3",
   "language": "python",
   "name": "python3"
  },
  "language_info": {
   "codemirror_mode": {
    "name": "ipython",
    "version": 3
   },
   "file_extension": ".py",
   "mimetype": "text/x-python",
   "name": "python",
   "nbconvert_exporter": "python",
   "pygments_lexer": "ipython3",
   "version": "3.10.4"
  }
 },
 "nbformat": 4,
 "nbformat_minor": 2
}
