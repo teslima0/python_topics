{
 "cells": [
  {
   "cell_type": "code",
   "execution_count": 6,
   "metadata": {},
   "outputs": [
    {
     "name": "stdout",
     "output_type": "stream",
     "text": [
      "error: division by zero\n",
      "Finally block executed.\n"
     ]
    }
   ],
   "source": [
    "try:\n",
    "    # Code that may raise an exception\n",
    "    result = 9 / 0\n",
    "except ZeroDivisionError as e:\n",
    "    print(f'error: {e}')\n",
    "\n",
    "    #general error catching\n",
    "except Exception as e:\n",
    "    print(f'this handle general error: {e}')\n",
    "\n",
    "else:\n",
    "\n",
    "     result = 10 / 2\n",
    "\n",
    "#this wiill print regardless\n",
    "finally:\n",
    "    # Executed whether an exception occurred or not\n",
    "    print(\"Finally block executed.\")"
   ]
  },
  {
   "cell_type": "markdown",
   "metadata": {},
   "source": [
    "Remember that using a bare except should be done cautiously, as it may hide bugs and make debugging more challenging."
   ]
  },
  {
   "cell_type": "code",
   "execution_count": 7,
   "metadata": {},
   "outputs": [
    {
     "name": "stdout",
     "output_type": "stream",
     "text": [
      "An error occurred.\n"
     ]
    }
   ],
   "source": [
    "try:\n",
    "    # Code that may raise an exception\n",
    "    result = 10 / 0\n",
    "except:\n",
    "    print(\"An error occurred.\")\n"
   ]
  },
  {
   "cell_type": "markdown",
   "metadata": {},
   "source": [
    "Basics of Error Handling:\n",
    "1. try and except Blocks:"
   ]
  },
  {
   "cell_type": "code",
   "execution_count": 10,
   "metadata": {},
   "outputs": [
    {
     "name": "stdout",
     "output_type": "stream",
     "text": [
      "5.0\n",
      "Final block executed\n"
     ]
    }
   ],
   "source": [
    "try:\n",
    "    # code that may raise an exception\n",
    "    print(10/2)\n",
    "except ZeroDivisionError as e:\n",
    "    #catch specific error\n",
    "    print(f'Error: {e}')\n",
    "\n",
    "except Exception as e:\n",
    "    #catc general error\n",
    "    print(f'Error: {e}')\n",
    "else:\n",
    "    # executed if no error is found\n",
    "    print(f'No error occur')\n",
    "finally:\n",
    "    # it will execute whether there is an exception or not\n",
    "    print(f'Final block executed')"
   ]
  },
  {
   "cell_type": "markdown",
   "metadata": {},
   "source": [
    "\n",
    "2. except without Specifying an Exception:"
   ]
  },
  {
   "cell_type": "code",
   "execution_count": null,
   "metadata": {},
   "outputs": [],
   "source": [
    "try:\n",
    "    print(9/0)\n",
    "except:\n",
    "    print(f'error: an error occur')"
   ]
  },
  {
   "cell_type": "markdown",
   "metadata": {},
   "source": [
    "3. finally Block:\n",
    "The finally block is always executed, regardless of whether an exception occurred or not. It is commonly used for cleanup operations."
   ]
  },
  {
   "cell_type": "code",
   "execution_count": 1,
   "metadata": {},
   "outputs": [
    {
     "name": "stdout",
     "output_type": "stream",
     "text": [
      "Error: division by zero\n",
      "Finally block executed.\n"
     ]
    }
   ],
   "source": [
    "try:\n",
    "    # Code that may raise an exception\n",
    "    result = 10 / 0\n",
    "except ZeroDivisionError as e:\n",
    "    print(f\"Error: {e}\")\n",
    "finally:\n",
    "    print(\"Finally block executed.\")\n"
   ]
  },
  {
   "cell_type": "markdown",
   "metadata": {},
   "source": [
    "Common Exception Types:\n",
    "1. ZeroDivisionError:\n",
    "Raised when division or modulo by zero is encountered."
   ]
  },
  {
   "cell_type": "code",
   "execution_count": 2,
   "metadata": {},
   "outputs": [
    {
     "name": "stdout",
     "output_type": "stream",
     "text": [
      "Error: division by zero\n"
     ]
    }
   ],
   "source": [
    "try:\n",
    "    result = 10 / 0\n",
    "except ZeroDivisionError as e:\n",
    "    print(f\"Error: {e}\")\n"
   ]
  },
  {
   "cell_type": "markdown",
   "metadata": {},
   "source": [
    "2. ValueError:\n",
    "Raised when a function receives an argument of the correct type but with an invalid value."
   ]
  },
  {
   "cell_type": "code",
   "execution_count": 3,
   "metadata": {},
   "outputs": [
    {
     "name": "stdout",
     "output_type": "stream",
     "text": [
      "Error: invalid literal for int() with base 10: 'abc'\n"
     ]
    }
   ],
   "source": [
    "try:\n",
    "    result = int(\"abc\")\n",
    "except ValueError as e:\n",
    "    print(f\"Error: {e}\")\n"
   ]
  },
  {
   "cell_type": "markdown",
   "metadata": {},
   "source": [
    "3. FileNotFoundError:\n",
    "Raised when a file or directory is requested but cannot be found."
   ]
  },
  {
   "cell_type": "code",
   "execution_count": 4,
   "metadata": {},
   "outputs": [
    {
     "name": "stdout",
     "output_type": "stream",
     "text": [
      "error: [Errno 2] No such file or directory: 'file_note_found.txt'\n"
     ]
    }
   ],
   "source": [
    "try:\n",
    "    with open('file_note_found.txt','r') as file:\n",
    "        cotent= file.read()\n",
    "except FileNotFoundError as e:\n",
    "    print(f'error: {e}')"
   ]
  },
  {
   "cell_type": "markdown",
   "metadata": {},
   "source": [
    "4. Exception:\n",
    "The base class for all exceptions. Catching Exception is not always recommended, but it can be used for handling unexpected errors."
   ]
  },
  {
   "cell_type": "code",
   "execution_count": 5,
   "metadata": {},
   "outputs": [
    {
     "name": "stdout",
     "output_type": "stream",
     "text": [
      "Error: division by zero\n"
     ]
    }
   ],
   "source": [
    "try:\n",
    "    result = 10 / 0\n",
    "except Exception as e:\n",
    "    print(f\"Error: {e}\")\n"
   ]
  },
  {
   "cell_type": "markdown",
   "metadata": {},
   "source": [
    "Custom Exceptions:\n",
    "You can create your own exception classes to handle specific scenarios."
   ]
  },
  {
   "cell_type": "code",
   "execution_count": 6,
   "metadata": {},
   "outputs": [
    {
     "name": "stdout",
     "output_type": "stream",
     "text": [
      "Custom Error: This is a custom error.\n"
     ]
    }
   ],
   "source": [
    "class CustomError(Exception):\n",
    "    def __init__(self, message):\n",
    "        self.message = message\n",
    "\n",
    "try:\n",
    "    raise CustomError(\"This is a custom error.\")\n",
    "except CustomError as e:\n",
    "    print(f\"Custom Error: {e.message}\")\n"
   ]
  },
  {
   "cell_type": "markdown",
   "metadata": {},
   "source": [
    "Best Practices:\n",
    "1. Specific Exception Handling:\n",
    "Handle specific exceptions rather than using a broad except block to catch all exceptions. This ensures that you are only catching the exceptions you expect.\n",
    "\n",
    "2. Use else Block:\n",
    "The else block is executed if no exceptions are raised. It is useful for separating the code that may raise an exception from the code that runs when no exception occurs.\n",
    "\n",
    "3. Clean-Up with finally:\n",
    "Use the finally block for clean-up operations, such as closing files or releasing resources. The finally block is executed whether an exception occurred or not.\n",
    "\n",
    "4. Logging:\n",
    "Consider using the logging module for logging exceptions. It provides more flexibility and control over how errors are logged."
   ]
  },
  {
   "cell_type": "code",
   "execution_count": 7,
   "metadata": {},
   "outputs": [
    {
     "name": "stderr",
     "output_type": "stream",
     "text": [
      "ERROR:root:error: division by zero\n"
     ]
    }
   ],
   "source": [
    "import logging\n",
    "\n",
    "try:\n",
    "    print(9/0)\n",
    "except ZeroDivisionError as e:\n",
    "    logging.error(f'error: {e}')"
   ]
  },
  {
   "cell_type": "markdown",
   "metadata": {},
   "source": [
    "5. Avoid Bare except:\n",
    "Avoid using a bare except block without specifying the exception type. This can hide bugs and make debugging more difficult."
   ]
  },
  {
   "cell_type": "code",
   "execution_count": 8,
   "metadata": {},
   "outputs": [
    {
     "name": "stdout",
     "output_type": "stream",
     "text": [
      "An error occurred.\n"
     ]
    }
   ],
   "source": [
    "# Avoid this:\n",
    "try:\n",
    "    result = 10 / 0\n",
    "except:\n",
    "    print(\"An error occurred.\")\n"
   ]
  },
  {
   "cell_type": "markdown",
   "metadata": {},
   "source": [
    "6. Handle Exceptions Locally:\n",
    "Handle exceptions at the appropriate level in your code. Avoid handling exceptions too high in the call stack unless necessary."
   ]
  },
  {
   "cell_type": "code",
   "execution_count": 9,
   "metadata": {},
   "outputs": [
    {
     "name": "stdout",
     "output_type": "stream",
     "text": [
      "Error: invalid literal for int() with base 10: 'abc'\n"
     ]
    }
   ],
   "source": [
    "# Avoid this (handling exception too high):\n",
    "try:\n",
    "    result = int(\"abc\")\n",
    "except ValueError as e:\n",
    "    print(f\"Error: {e}\")\n"
   ]
  },
  {
   "cell_type": "markdown",
   "metadata": {},
   "source": [
    "Error handling is an essential part of writing reliable and maintainable Python code. Understanding how to handle exceptions, when to use specific exception types, and adopting best practices will contribute to the overall quality of your software."
   ]
  },
  {
   "cell_type": "markdown",
   "metadata": {},
   "source": [
    "Handling Multiple Exceptions:\n",
    "You can handle multiple exceptions in a single except block or have multiple except blocks."
   ]
  },
  {
   "cell_type": "code",
   "execution_count": 10,
   "metadata": {},
   "outputs": [],
   "source": [
    "try:\n",
    "    num = int(input(\"Enter a number: \"))\n",
    "    result = 10 / num\n",
    "except (ValueError, ZeroDivisionError) as e:\n",
    "    print(f\"Error: {e}\")\n",
    "except Exception as e:\n",
    "    print(f\"Unexpected Error: {e}\")\n"
   ]
  },
  {
   "cell_type": "markdown",
   "metadata": {},
   "source": [
    "Raising Exceptions:\n",
    "You can raise exceptions using the raise statement. This is useful for signaling errors or exceptional conditions in your code."
   ]
  },
  {
   "cell_type": "code",
   "execution_count": 11,
   "metadata": {},
   "outputs": [
    {
     "name": "stdout",
     "output_type": "stream",
     "text": [
      "Error: Cannot divide by zero\n"
     ]
    }
   ],
   "source": [
    "def divide_numbers(a, b):\n",
    "    if b == 0:\n",
    "        raise ValueError(\"Cannot divide by zero\")\n",
    "    return a / b\n",
    "\n",
    "try:\n",
    "    result = divide_numbers(10, 0)\n",
    "except ValueError as e:\n",
    "    print(f\"Error: {e}\")\n"
   ]
  },
  {
   "cell_type": "markdown",
   "metadata": {},
   "source": [
    "Using finally for Cleanup:\n",
    "The finally block is used for cleanup operations, and it will be executed whether an exception occurs or not."
   ]
  },
  {
   "cell_type": "code",
   "execution_count": 12,
   "metadata": {},
   "outputs": [
    {
     "name": "stdout",
     "output_type": "stream",
     "text": [
      "Error: [Errno 2] No such file or directory: 'example.txt'\n",
      "File closed.\n"
     ]
    }
   ],
   "source": [
    "file = None\n",
    "try:\n",
    "    file = open(\"example.txt\", \"r\")\n",
    "    content = file.read()\n",
    "    # Process the content\n",
    "except FileNotFoundError as e:\n",
    "    print(f\"Error: {e}\")\n",
    "finally:\n",
    "    if file:\n",
    "        file.close()\n",
    "    print(\"File closed.\")\n"
   ]
  },
  {
   "cell_type": "markdown",
   "metadata": {},
   "source": [
    "else Block:\n",
    "The else block is executed if no exceptions occur. It helps separate the code that might raise an exception from the code that runs when everything is successful."
   ]
  },
  {
   "cell_type": "code",
   "execution_count": null,
   "metadata": {},
   "outputs": [],
   "source": [
    "try:\n",
    "    num = int(input(\"Enter a number: \"))\n",
    "    result = 10 / num\n",
    "except ValueError as e:\n",
    "    print(f\"Error: {e}\")\n",
    "else:\n",
    "    print(f\"Result: {result}\")\n"
   ]
  },
  {
   "cell_type": "markdown",
   "metadata": {},
   "source": [
    "Suppressing Exceptions:\n",
    "In some cases, you might want to suppress exceptions and continue execution. Use pass in the except block to do this."
   ]
  },
  {
   "cell_type": "code",
   "execution_count": null,
   "metadata": {},
   "outputs": [],
   "source": [
    "try:\n",
    "    result = 10 / 0\n",
    "except ZeroDivisionError:\n",
    "    pass\n",
    "print(\"Code continues running.\")\n"
   ]
  },
  {
   "cell_type": "markdown",
   "metadata": {},
   "source": [
    "Using assert:\n",
    "assert statements can be used to assert that a certain condition is met. If the condition is False, an AssertionError is raised."
   ]
  },
  {
   "cell_type": "code",
   "execution_count": 20,
   "metadata": {},
   "outputs": [
    {
     "name": "stdout",
     "output_type": "stream",
     "text": [
      "Age is valid.\n"
     ]
    }
   ],
   "source": [
    "age = -5\n",
    "#try:\n",
    "assert age >= 0, \"Age cannot be negative\"\n",
    "print(\"Age is valid.\")\n",
    "#except AssertionError as e:\n",
    "    #print('error: {e}')\n"
   ]
  },
  {
   "cell_type": "markdown",
   "metadata": {},
   "source": [
    "Both raise and assert are used in Python for error handling and to check for conditions that should not occur during the normal execution of a program. However, they are used in slightly different scenarios.\n",
    "\n",
    "raise Statement:\n",
    "The raise statement is used to explicitly raise an exception. This is typically done when your code encounters an error or a situation that should not occur, and you want to signal this condition to the calling code.\n",
    "\n",
    "Scenario for raise:\n",
    "\n",
    "Custom Error Handling: You can use raise to create and raise your own custom exceptions when specific conditions are not met."
   ]
  },
  {
   "cell_type": "markdown",
   "metadata": {},
   "source": [
    "if condition_not_met:\n",
    "    raise ValueError(\"Custom error message\")"
   ]
  },
  {
   "cell_type": "markdown",
   "metadata": {},
   "source": [
    "Error Propagation: If you catch an exception in one part of your code but cannot handle it appropriately, you may choose to raise the same exception to propagate it to higher levels of the program for more centralized error handling."
   ]
  },
  {
   "cell_type": "markdown",
   "metadata": {},
   "source": [
    "try:\n",
    "\n",
    "    # code that may raise an exception\n",
    "\n",
    "\n",
    "except SomeSpecificError as e:\n",
    "\n",
    "\n",
    "    # handle the exception locally\n",
    "\n",
    "    # if unable to handle, re-raise the same exception\n",
    "\n",
    "    \n",
    "    raise e\n"
   ]
  },
  {
   "cell_type": "markdown",
   "metadata": {},
   "source": [
    "assert Statement:\n",
    "The assert statement is used for debugging purposes and to check conditions that should always be true during the normal execution of the program. If the specified condition is False, an AssertionError is raised.\n",
    "\n",
    "Scenario for assert:\n",
    "\n",
    "Debugging and Development: Use assert to check assumptions about the state of your program during development. It helps catch logical errors early."
   ]
  },
  {
   "cell_type": "markdown",
   "metadata": {},
   "source": [
    "assert condition, \"Assertion error message\""
   ]
  },
  {
   "cell_type": "code",
   "execution_count": 21,
   "metadata": {},
   "outputs": [
    {
     "name": "stdout",
     "output_type": "stream",
     "text": [
      "Error: invalid literal for int() with base 10: 'abc'\n"
     ]
    }
   ],
   "source": [
    "#Scenario: Handling Exceptions Too High\n",
    "# Avoid this (handling exception too high):\n",
    "try:\n",
    "    result = int(\"abc\")\n",
    "except ValueError as e:\n",
    "    print(f\"Error: {e}\")\n",
    "\n"
   ]
  },
  {
   "cell_type": "markdown",
   "metadata": {},
   "source": [
    "In this scenario, we're attempting to convert a string \"abc\" to an integer using int(). However, this operation will raise a ValueError because \"abc\" is not a valid integer representation. We're catching this exception at the top level of our code using a try-except block.\n",
    "\n",
    "Why Avoid This Approach?\n",
    "Handling exceptions too high in the call stack, especially at the top level of your code, can make it challenging to diagnose and handle errors effectively. Here's why:\n",
    "\n",
    "Lack of Context: When you catch an exception at a high level, you lose the context of where and why the exception occurred. This makes it harder to determine the root cause of the error.\n",
    "\n",
    "Limited Error Handling: By handling exceptions too high, you might only print a generic error message or take a generic action, such as logging the error. This might not be sufficient for handling specific errors in a meaningful way.\n",
    "\n",
    "Difficulty in Debugging: If an exception is caught at the top level without any meaningful handling, it can be challenging to debug the issue, especially if the codebase is large or complex.\n",
    "\n",
    "Handling Exceptions Locally:\n",
    "Handling exceptions locally means catching and handling exceptions as close to where they occur as possible. Here's how you can do it:"
   ]
  },
  {
   "cell_type": "code",
   "execution_count": null,
   "metadata": {},
   "outputs": [],
   "source": [
    "def convert_to_integer(value):\n",
    "    try:\n",
    "        result = int(value)\n",
    "    except ValueError as e:\n",
    "        print(f\"Error converting '{value}' to integer: {e}\")\n",
    "        # Handle the error locally, if possible\n",
    "        # Perhaps return a default value or re-raise a more informative exception\n",
    "        return None\n",
    "    else:\n",
    "        return result\n",
    "\n",
    "# Usage:\n",
    "result = convert_to_integer(\"abc\")\n",
    "if result is not None:\n",
    "    print(f\"Conversion successful: {result}\")\n",
    "else:\n",
    "    print(\"Conversion failed.\")\n"
   ]
  },
  {
   "cell_type": "markdown",
   "metadata": {},
   "source": [
    "In this example:\n",
    "\n",
    "We define a function convert_to_integer that attempts to convert a value to an integer.\n",
    "We catch the ValueError exception locally within the function and handle it by printing an informative error message. Depending on the situation, we might also take additional actions, such as returning a default value or logging the error.\n",
    "By handling the exception locally within the function, we maintain context and can provide more specific error handling tailored to the operation being performed.\n",
    "Benefits of Handling Exceptions Locally:\n",
    "Better Context: By handling exceptions locally, you maintain context about where and why the exception occurred, making it easier to diagnose and debug errors.\n",
    "\n",
    "Specific Error Handling: Local exception handling allows you to provide specific error messages or take appropriate actions based on the operation being performed.\n",
    "\n",
    "Modular and Maintainable Code: Handling exceptions locally within functions promotes modularity and maintainability by encapsulating error handling logic close to where it's needed.\n",
    "\n",
    "In summary, handling exceptions locally ensures that errors are caught and handled in the appropriate context, making your code more robust, maintainable, and easier to debug."
   ]
  }
 ],
 "metadata": {
  "kernelspec": {
   "display_name": "Python 3",
   "language": "python",
   "name": "python3"
  },
  "language_info": {
   "codemirror_mode": {
    "name": "ipython",
    "version": 3
   },
   "file_extension": ".py",
   "mimetype": "text/x-python",
   "name": "python",
   "nbconvert_exporter": "python",
   "pygments_lexer": "ipython3",
   "version": "3.10.4"
  }
 },
 "nbformat": 4,
 "nbformat_minor": 2
}
